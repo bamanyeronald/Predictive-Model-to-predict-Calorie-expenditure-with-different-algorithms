{
 "cells": [
  {
   "cell_type": "markdown",
   "id": "c0d3a489-af98-4794-8ea6-6c7232e339a1",
   "metadata": {},
   "source": [
    "# GRADIENT BOOSTING AND RANDOM FOREST MODELS"
   ]
  },
  {
   "cell_type": "markdown",
   "id": "84d6633c-4b94-4c76-98f8-b6bbcb40f4c0",
   "metadata": {},
   "source": [
    "### Importing relevant libraries"
   ]
  },
  {
   "cell_type": "code",
   "execution_count": 1,
   "id": "779d178b-d1c5-4e53-99fb-3f662f153d22",
   "metadata": {},
   "outputs": [],
   "source": [
    "import numpy as np\n",
    "import pandas as pd\n",
    "import matplotlib.pyplot as plt\n",
    "import seaborn as sns\n",
    "\n",
    "from sklearn.compose import ColumnTransformer\n",
    "from sklearn.pipeline import Pipeline\n",
    "from sklearn.model_selection import KFold, cross_validate, train_test_split\n",
    "from sklearn.metrics import make_scorer, accuracy_score, mean_squared_error, root_mean_squared_error\n",
    "\n",
    "from sklearn.impute import SimpleImputer\n",
    "from sklearn.preprocessing import StandardScaler, OneHotEncoder\n",
    "\n",
    "from sklearn.ensemble import RandomForestRegressor, BaggingRegressor, GradientBoostingRegressor\n",
    "from xgboost import XGBRegressor, XGBClassifier\n",
    "from sklearn.tree import DecisionTreeRegressor"
   ]
  },
  {
   "cell_type": "code",
   "execution_count": 2,
   "id": "7d35da58-071b-4a19-83e6-69d535d23746",
   "metadata": {},
   "outputs": [],
   "source": [
    "train_data = pd.read_csv(r'playground-series-s5e5\\train.csv')\n",
    "test_data = pd.read_csv(r'playground-series-s5e5\\test.csv')"
   ]
  },
  {
   "cell_type": "code",
   "execution_count": 3,
   "id": "a6852ba4-97a4-428f-ad48-626f99811fc1",
   "metadata": {},
   "outputs": [
    {
     "data": {
      "text/html": [
       "<div>\n",
       "<style scoped>\n",
       "    .dataframe tbody tr th:only-of-type {\n",
       "        vertical-align: middle;\n",
       "    }\n",
       "\n",
       "    .dataframe tbody tr th {\n",
       "        vertical-align: top;\n",
       "    }\n",
       "\n",
       "    .dataframe thead th {\n",
       "        text-align: right;\n",
       "    }\n",
       "</style>\n",
       "<table border=\"1\" class=\"dataframe\">\n",
       "  <thead>\n",
       "    <tr style=\"text-align: right;\">\n",
       "      <th></th>\n",
       "      <th>id</th>\n",
       "      <th>Sex</th>\n",
       "      <th>Age</th>\n",
       "      <th>Height</th>\n",
       "      <th>Weight</th>\n",
       "      <th>Duration</th>\n",
       "      <th>Heart_Rate</th>\n",
       "      <th>Body_Temp</th>\n",
       "      <th>Calories</th>\n",
       "    </tr>\n",
       "  </thead>\n",
       "  <tbody>\n",
       "    <tr>\n",
       "      <th>0</th>\n",
       "      <td>0</td>\n",
       "      <td>male</td>\n",
       "      <td>36</td>\n",
       "      <td>189.0</td>\n",
       "      <td>82.0</td>\n",
       "      <td>26.0</td>\n",
       "      <td>101.0</td>\n",
       "      <td>41.0</td>\n",
       "      <td>150.0</td>\n",
       "    </tr>\n",
       "    <tr>\n",
       "      <th>1</th>\n",
       "      <td>1</td>\n",
       "      <td>female</td>\n",
       "      <td>64</td>\n",
       "      <td>163.0</td>\n",
       "      <td>60.0</td>\n",
       "      <td>8.0</td>\n",
       "      <td>85.0</td>\n",
       "      <td>39.7</td>\n",
       "      <td>34.0</td>\n",
       "    </tr>\n",
       "    <tr>\n",
       "      <th>2</th>\n",
       "      <td>2</td>\n",
       "      <td>female</td>\n",
       "      <td>51</td>\n",
       "      <td>161.0</td>\n",
       "      <td>64.0</td>\n",
       "      <td>7.0</td>\n",
       "      <td>84.0</td>\n",
       "      <td>39.8</td>\n",
       "      <td>29.0</td>\n",
       "    </tr>\n",
       "    <tr>\n",
       "      <th>3</th>\n",
       "      <td>3</td>\n",
       "      <td>male</td>\n",
       "      <td>20</td>\n",
       "      <td>192.0</td>\n",
       "      <td>90.0</td>\n",
       "      <td>25.0</td>\n",
       "      <td>105.0</td>\n",
       "      <td>40.7</td>\n",
       "      <td>140.0</td>\n",
       "    </tr>\n",
       "    <tr>\n",
       "      <th>4</th>\n",
       "      <td>4</td>\n",
       "      <td>female</td>\n",
       "      <td>38</td>\n",
       "      <td>166.0</td>\n",
       "      <td>61.0</td>\n",
       "      <td>25.0</td>\n",
       "      <td>102.0</td>\n",
       "      <td>40.6</td>\n",
       "      <td>146.0</td>\n",
       "    </tr>\n",
       "  </tbody>\n",
       "</table>\n",
       "</div>"
      ],
      "text/plain": [
       "   id     Sex  Age  Height  Weight  Duration  Heart_Rate  Body_Temp  Calories\n",
       "0   0    male   36   189.0    82.0      26.0       101.0       41.0     150.0\n",
       "1   1  female   64   163.0    60.0       8.0        85.0       39.7      34.0\n",
       "2   2  female   51   161.0    64.0       7.0        84.0       39.8      29.0\n",
       "3   3    male   20   192.0    90.0      25.0       105.0       40.7     140.0\n",
       "4   4  female   38   166.0    61.0      25.0       102.0       40.6     146.0"
      ]
     },
     "execution_count": 3,
     "metadata": {},
     "output_type": "execute_result"
    }
   ],
   "source": [
    "train_data.head()"
   ]
  },
  {
   "cell_type": "code",
   "execution_count": 4,
   "id": "08506012-d28f-4351-8b0b-8e87ea1f5ce5",
   "metadata": {},
   "outputs": [
    {
     "data": {
      "text/plain": [
       "Index(['id', 'Sex', 'Age', 'Height', 'Weight', 'Duration', 'Heart_Rate',\n",
       "       'Body_Temp', 'Calories'],\n",
       "      dtype='object')"
      ]
     },
     "execution_count": 4,
     "metadata": {},
     "output_type": "execute_result"
    }
   ],
   "source": [
    "train_data.columns"
   ]
  },
  {
   "cell_type": "code",
   "execution_count": 5,
   "id": "8a1474f8-4959-40f5-a782-cd16fd13c9ff",
   "metadata": {},
   "outputs": [],
   "source": [
    "num_cols = ['Age', 'Height', 'Weight', 'Duration', 'Heart_Rate', 'Body_Temp']\n",
    "cat_cols = ['Sex']"
   ]
  },
  {
   "cell_type": "code",
   "execution_count": 6,
   "id": "1e75e66d-04b7-4f01-aa10-5bbeb3391723",
   "metadata": {},
   "outputs": [],
   "source": [
    "cat_encoder = OneHotEncoder(handle_unknown='ignore')\n",
    "\n",
    "column_transformer = ColumnTransformer(\n",
    "    [\n",
    "        ('cat_encoding', cat_encoder, cat_cols),\n",
    "        ('num_passthrough', 'passthrough', num_cols)\n",
    "    ],\n",
    "    remainder = 'drop',\n",
    "    verbose_feature_names_out=False,\n",
    "    sparse_threshold=0\n",
    ")"
   ]
  },
  {
   "cell_type": "code",
   "execution_count": 7,
   "id": "7cfc65e4-f92f-4f4c-9bd1-a9c2f68d5063",
   "metadata": {},
   "outputs": [
    {
     "data": {
      "text/plain": [
       "array([[  0. ,   1. ,  36. , ...,  26. , 101. ,  41. ],\n",
       "       [  1. ,   0. ,  64. , ...,   8. ,  85. ,  39.7],\n",
       "       [  1. ,   0. ,  51. , ...,   7. ,  84. ,  39.8],\n",
       "       ...,\n",
       "       [  0. ,   1. ,  60. , ...,  29. , 113. ,  40.9],\n",
       "       [  0. ,   1. ,  45. , ...,  17. , 102. ,  40.3],\n",
       "       [  1. ,   0. ,  39. , ...,  19. ,  97. ,  40.6]], shape=(750000, 8))"
      ]
     },
     "execution_count": 7,
     "metadata": {},
     "output_type": "execute_result"
    }
   ],
   "source": [
    "X = column_transformer.fit_transform(train_data)\n",
    "X"
   ]
  },
  {
   "cell_type": "code",
   "execution_count": 8,
   "id": "f17d7828-2719-49fb-b05d-424680caed21",
   "metadata": {},
   "outputs": [
    {
     "data": {
      "text/plain": [
       "(750000, 8)"
      ]
     },
     "execution_count": 8,
     "metadata": {},
     "output_type": "execute_result"
    }
   ],
   "source": [
    "X.shape"
   ]
  },
  {
   "cell_type": "code",
   "execution_count": 9,
   "id": "b85e2591-32a6-42e5-a430-ccdd926bf5ca",
   "metadata": {},
   "outputs": [
    {
     "data": {
      "text/html": [
       "<div>\n",
       "<style scoped>\n",
       "    .dataframe tbody tr th:only-of-type {\n",
       "        vertical-align: middle;\n",
       "    }\n",
       "\n",
       "    .dataframe tbody tr th {\n",
       "        vertical-align: top;\n",
       "    }\n",
       "\n",
       "    .dataframe thead th {\n",
       "        text-align: right;\n",
       "    }\n",
       "</style>\n",
       "<table border=\"1\" class=\"dataframe\">\n",
       "  <thead>\n",
       "    <tr style=\"text-align: right;\">\n",
       "      <th></th>\n",
       "      <th>id</th>\n",
       "      <th>Sex</th>\n",
       "      <th>Age</th>\n",
       "      <th>Height</th>\n",
       "      <th>Weight</th>\n",
       "      <th>Duration</th>\n",
       "      <th>Heart_Rate</th>\n",
       "      <th>Body_Temp</th>\n",
       "      <th>Calories</th>\n",
       "    </tr>\n",
       "  </thead>\n",
       "  <tbody>\n",
       "    <tr>\n",
       "      <th>count</th>\n",
       "      <td>750000.000000</td>\n",
       "      <td>750000</td>\n",
       "      <td>750000.000000</td>\n",
       "      <td>750000.000000</td>\n",
       "      <td>750000.000000</td>\n",
       "      <td>750000.000000</td>\n",
       "      <td>750000.000000</td>\n",
       "      <td>750000.000000</td>\n",
       "      <td>750000.000000</td>\n",
       "    </tr>\n",
       "    <tr>\n",
       "      <th>unique</th>\n",
       "      <td>NaN</td>\n",
       "      <td>2</td>\n",
       "      <td>NaN</td>\n",
       "      <td>NaN</td>\n",
       "      <td>NaN</td>\n",
       "      <td>NaN</td>\n",
       "      <td>NaN</td>\n",
       "      <td>NaN</td>\n",
       "      <td>NaN</td>\n",
       "    </tr>\n",
       "    <tr>\n",
       "      <th>top</th>\n",
       "      <td>NaN</td>\n",
       "      <td>female</td>\n",
       "      <td>NaN</td>\n",
       "      <td>NaN</td>\n",
       "      <td>NaN</td>\n",
       "      <td>NaN</td>\n",
       "      <td>NaN</td>\n",
       "      <td>NaN</td>\n",
       "      <td>NaN</td>\n",
       "    </tr>\n",
       "    <tr>\n",
       "      <th>freq</th>\n",
       "      <td>NaN</td>\n",
       "      <td>375721</td>\n",
       "      <td>NaN</td>\n",
       "      <td>NaN</td>\n",
       "      <td>NaN</td>\n",
       "      <td>NaN</td>\n",
       "      <td>NaN</td>\n",
       "      <td>NaN</td>\n",
       "      <td>NaN</td>\n",
       "    </tr>\n",
       "    <tr>\n",
       "      <th>mean</th>\n",
       "      <td>374999.500000</td>\n",
       "      <td>NaN</td>\n",
       "      <td>41.420404</td>\n",
       "      <td>174.697685</td>\n",
       "      <td>75.145668</td>\n",
       "      <td>15.421015</td>\n",
       "      <td>95.483995</td>\n",
       "      <td>40.036253</td>\n",
       "      <td>88.282781</td>\n",
       "    </tr>\n",
       "    <tr>\n",
       "      <th>std</th>\n",
       "      <td>216506.495284</td>\n",
       "      <td>NaN</td>\n",
       "      <td>15.175049</td>\n",
       "      <td>12.824496</td>\n",
       "      <td>13.982704</td>\n",
       "      <td>8.354095</td>\n",
       "      <td>9.449845</td>\n",
       "      <td>0.779875</td>\n",
       "      <td>62.395349</td>\n",
       "    </tr>\n",
       "    <tr>\n",
       "      <th>min</th>\n",
       "      <td>0.000000</td>\n",
       "      <td>NaN</td>\n",
       "      <td>20.000000</td>\n",
       "      <td>126.000000</td>\n",
       "      <td>36.000000</td>\n",
       "      <td>1.000000</td>\n",
       "      <td>67.000000</td>\n",
       "      <td>37.100000</td>\n",
       "      <td>1.000000</td>\n",
       "    </tr>\n",
       "    <tr>\n",
       "      <th>25%</th>\n",
       "      <td>187499.750000</td>\n",
       "      <td>NaN</td>\n",
       "      <td>28.000000</td>\n",
       "      <td>164.000000</td>\n",
       "      <td>63.000000</td>\n",
       "      <td>8.000000</td>\n",
       "      <td>88.000000</td>\n",
       "      <td>39.600000</td>\n",
       "      <td>34.000000</td>\n",
       "    </tr>\n",
       "    <tr>\n",
       "      <th>50%</th>\n",
       "      <td>374999.500000</td>\n",
       "      <td>NaN</td>\n",
       "      <td>40.000000</td>\n",
       "      <td>174.000000</td>\n",
       "      <td>74.000000</td>\n",
       "      <td>15.000000</td>\n",
       "      <td>95.000000</td>\n",
       "      <td>40.300000</td>\n",
       "      <td>77.000000</td>\n",
       "    </tr>\n",
       "    <tr>\n",
       "      <th>75%</th>\n",
       "      <td>562499.250000</td>\n",
       "      <td>NaN</td>\n",
       "      <td>52.000000</td>\n",
       "      <td>185.000000</td>\n",
       "      <td>87.000000</td>\n",
       "      <td>23.000000</td>\n",
       "      <td>103.000000</td>\n",
       "      <td>40.700000</td>\n",
       "      <td>136.000000</td>\n",
       "    </tr>\n",
       "    <tr>\n",
       "      <th>max</th>\n",
       "      <td>749999.000000</td>\n",
       "      <td>NaN</td>\n",
       "      <td>79.000000</td>\n",
       "      <td>222.000000</td>\n",
       "      <td>132.000000</td>\n",
       "      <td>30.000000</td>\n",
       "      <td>128.000000</td>\n",
       "      <td>41.500000</td>\n",
       "      <td>314.000000</td>\n",
       "    </tr>\n",
       "  </tbody>\n",
       "</table>\n",
       "</div>"
      ],
      "text/plain": [
       "                   id     Sex            Age         Height         Weight  \\\n",
       "count   750000.000000  750000  750000.000000  750000.000000  750000.000000   \n",
       "unique            NaN       2            NaN            NaN            NaN   \n",
       "top               NaN  female            NaN            NaN            NaN   \n",
       "freq              NaN  375721            NaN            NaN            NaN   \n",
       "mean    374999.500000     NaN      41.420404     174.697685      75.145668   \n",
       "std     216506.495284     NaN      15.175049      12.824496      13.982704   \n",
       "min          0.000000     NaN      20.000000     126.000000      36.000000   \n",
       "25%     187499.750000     NaN      28.000000     164.000000      63.000000   \n",
       "50%     374999.500000     NaN      40.000000     174.000000      74.000000   \n",
       "75%     562499.250000     NaN      52.000000     185.000000      87.000000   \n",
       "max     749999.000000     NaN      79.000000     222.000000     132.000000   \n",
       "\n",
       "             Duration     Heart_Rate      Body_Temp       Calories  \n",
       "count   750000.000000  750000.000000  750000.000000  750000.000000  \n",
       "unique            NaN            NaN            NaN            NaN  \n",
       "top               NaN            NaN            NaN            NaN  \n",
       "freq              NaN            NaN            NaN            NaN  \n",
       "mean        15.421015      95.483995      40.036253      88.282781  \n",
       "std          8.354095       9.449845       0.779875      62.395349  \n",
       "min          1.000000      67.000000      37.100000       1.000000  \n",
       "25%          8.000000      88.000000      39.600000      34.000000  \n",
       "50%         15.000000      95.000000      40.300000      77.000000  \n",
       "75%         23.000000     103.000000      40.700000     136.000000  \n",
       "max         30.000000     128.000000      41.500000     314.000000  "
      ]
     },
     "execution_count": 9,
     "metadata": {},
     "output_type": "execute_result"
    }
   ],
   "source": [
    "train_data.describe(include = 'all')"
   ]
  },
  {
   "cell_type": "markdown",
   "id": "85aba27a-786d-44ab-8194-b7f4dcb604f8",
   "metadata": {},
   "source": [
    "## Bagging Regressor"
   ]
  },
  {
   "cell_type": "code",
   "execution_count": 10,
   "id": "c16b0e60-cd87-4ce7-a35c-324938d7315e",
   "metadata": {},
   "outputs": [],
   "source": [
    "bagging_regressor_model = BaggingRegressor(\n",
    "    estimator = DecisionTreeRegressor(),\n",
    "    n_estimators=300,\n",
    "    bootstrap=True,\n",
    "    max_features= 1,\n",
    "    max_samples=1,\n",
    "    random_state = 0\n",
    ")\n",
    "\n",
    "bagging_regressor_pipeline = Pipeline(\n",
    "    [\n",
    "        ('preprocessing', column_transformer),\n",
    "        ('modeling', bagging_regressor_model)\n",
    "    ]\n",
    ")\n",
    "\n",
    "cv = KFold(n_splits=5, shuffle = True, random_state = 0)\n",
    "bagging_regressor_rmse = make_scorer(root_mean_squared_error, greater_is_better=False)\n",
    "\n",
    "bagging_regressor_scores = cross_validate(\n",
    "    estimator = bagging_regressor_pipeline,\n",
    "    X = train_data,\n",
    "    y = train_data['Calories'],\n",
    "    cv = cv,\n",
    "    scoring = bagging_regressor_rmse,\n",
    "    return_estimator=True,\n",
    "    return_train_score=True\n",
    ")"
   ]
  },
  {
   "cell_type": "code",
   "execution_count": 11,
   "id": "d9985cd2-7226-4062-afa4-52c6254e7252",
   "metadata": {},
   "outputs": [
    {
     "data": {
      "text/plain": [
       "np.float64(-62.50458351075499)"
      ]
     },
     "execution_count": 11,
     "metadata": {},
     "output_type": "execute_result"
    }
   ],
   "source": [
    "np.mean(bagging_regressor_scores['test_score'])"
   ]
  },
  {
   "cell_type": "markdown",
   "id": "37f50a5e-9df5-4f55-9d7d-a79e108b9a2e",
   "metadata": {},
   "source": [
    "## Random Forests model"
   ]
  },
  {
   "cell_type": "code",
   "execution_count": 12,
   "id": "a016a2c8-cb43-43ec-b935-5b5f0783335d",
   "metadata": {},
   "outputs": [],
   "source": [
    "random_forest_model = RandomForestRegressor(\n",
    "    n_estimators=300,\n",
    "    min_samples_leaf=3,\n",
    "    random_state = 0\n",
    ")\n",
    "\n",
    "random_forest_pipeline = Pipeline(\n",
    "    [\n",
    "        ('preprocessing', column_transformer),\n",
    "        ('modeling', random_forest_model)\n",
    "    ]\n",
    ")\n",
    "\n",
    "cv = KFold(n_splits=5, shuffle = True, random_state = 0)\n",
    "random_forest_rmse = make_scorer(root_mean_squared_error, greater_is_better=False)\n",
    "\n",
    "random_forest_scores = cross_validate(\n",
    "    estimator = random_forest_pipeline,\n",
    "    X = train_data,\n",
    "    y = train_data['Calories'],\n",
    "    cv = cv,\n",
    "    scoring = random_forest_rmse,\n",
    "    return_estimator=True,\n",
    "    return_train_score=True\n",
    ")"
   ]
  },
  {
   "cell_type": "code",
   "execution_count": 13,
   "id": "0b2f8dc8-0f1b-484a-8022-631f9e50d4a0",
   "metadata": {},
   "outputs": [
    {
     "data": {
      "text/plain": [
       "np.float64(-3.741669526801928)"
      ]
     },
     "execution_count": 13,
     "metadata": {},
     "output_type": "execute_result"
    }
   ],
   "source": [
    "np.mean(random_forest_scores['test_score'])"
   ]
  },
  {
   "cell_type": "code",
   "execution_count": 14,
   "id": "70c113bd-2521-409b-8453-8a1aa1afaebc",
   "metadata": {},
   "outputs": [
    {
     "data": {
      "text/plain": [
       "np.float64(683.2878516197204)"
      ]
     },
     "execution_count": 14,
     "metadata": {},
     "output_type": "execute_result"
    }
   ],
   "source": [
    "np.mean(random_forest_scores['fit_time'])"
   ]
  },
  {
   "cell_type": "markdown",
   "id": "8e72c167-a973-4ce9-92c9-057ed7529beb",
   "metadata": {},
   "source": [
    "## Gradient Boosting"
   ]
  },
  {
   "cell_type": "code",
   "execution_count": 15,
   "id": "ea662cec-16eb-43a8-8b5f-1049314294c4",
   "metadata": {},
   "outputs": [],
   "source": [
    "gradient_boosting_model = GradientBoostingRegressor(\n",
    "    n_estimators=300,\n",
    "    min_samples_leaf=3,\n",
    "    max_depth=4,\n",
    "    learning_rate=0.1,\n",
    "    random_state = 0\n",
    ")\n",
    "\n",
    "gradient_boosting_pipeline = Pipeline(\n",
    "    [\n",
    "        ('preprocessing', column_transformer),\n",
    "        ('modeling', gradient_boosting_model)\n",
    "    ]\n",
    ")\n",
    "\n",
    "cv = KFold(n_splits=5, shuffle = True, random_state = 0)\n",
    "gradient_boosting_rmse = make_scorer(root_mean_squared_error, greater_is_better=False)\n",
    "\n",
    "gradient_boosting_scores = cross_validate(\n",
    "    estimator = gradient_boosting_pipeline,\n",
    "    X = train_data,\n",
    "    y = train_data['Calories'],\n",
    "    cv = cv,\n",
    "    scoring = gradient_boosting_rmse,\n",
    "    return_estimator=True,\n",
    "    return_train_score=True\n",
    ")"
   ]
  },
  {
   "cell_type": "code",
   "execution_count": 16,
   "id": "09cdb402-c2f8-49e1-b251-87a3b67a06bd",
   "metadata": {},
   "outputs": [
    {
     "data": {
      "text/plain": [
       "np.float64(-3.7786591404846077)"
      ]
     },
     "execution_count": 16,
     "metadata": {},
     "output_type": "execute_result"
    }
   ],
   "source": [
    "np.mean(gradient_boosting_scores['test_score'])"
   ]
  },
  {
   "cell_type": "markdown",
   "id": "825c94fd-37fc-45f2-9318-4a9d19b82305",
   "metadata": {},
   "source": [
    "## Gradient boosting with early stopping"
   ]
  },
  {
   "cell_type": "code",
   "execution_count": 17,
   "id": "ce47d88d-1bca-4905-9abe-0f680ed2a10e",
   "metadata": {},
   "outputs": [],
   "source": [
    "gradient_boosting_model2 = GradientBoostingRegressor(\n",
    "    n_estimators=1000,\n",
    "    min_samples_leaf=3,\n",
    "    max_depth=4,\n",
    "    learning_rate=0.1,\n",
    "    random_state = 0,\n",
    "    validation_fraction=0.2,\n",
    "    n_iter_no_change=10\n",
    ")\n",
    "\n",
    "gradient_boosting_pipeline2 = Pipeline(\n",
    "    [\n",
    "        ('preprocessing', column_transformer),\n",
    "        ('modeling', gradient_boosting_model2)\n",
    "    ]\n",
    ")\n",
    "\n",
    "cv = KFold(n_splits=5, shuffle = True, random_state = 0)\n",
    "gradient_boosting_rmse2 = make_scorer(root_mean_squared_error, greater_is_better=False)\n",
    "\n",
    "gradient_boosting_scores = cross_validate(\n",
    "    estimator = gradient_boosting_pipeline2,\n",
    "    X = train_data,\n",
    "    y = train_data['Calories'],\n",
    "    cv = cv,\n",
    "    scoring = gradient_boosting_rmse2,\n",
    "    return_estimator=True,\n",
    "    return_train_score=True\n",
    ")"
   ]
  },
  {
   "cell_type": "code",
   "execution_count": 18,
   "id": "07e3d936-e231-4bbf-ba84-f9055dd2d3fd",
   "metadata": {},
   "outputs": [
    {
     "data": {
      "text/plain": [
       "np.float64(-3.6776787201731573)"
      ]
     },
     "execution_count": 18,
     "metadata": {},
     "output_type": "execute_result"
    }
   ],
   "source": [
    "np.mean(gradient_boosting_scores['test_score'])"
   ]
  },
  {
   "cell_type": "markdown",
   "id": "5a0303f6-7274-4ac7-8364-ce12fa0e9f7d",
   "metadata": {},
   "source": [
    "## Saving model for productionization"
   ]
  },
  {
   "cell_type": "markdown",
   "id": "a259d293-b4b3-45dc-b722-758d4c80654c",
   "metadata": {},
   "source": [
    "#### we used the gradient boosting model for good results with early stopping to proevent over fitting"
   ]
  },
  {
   "cell_type": "code",
   "execution_count": 19,
   "id": "1b508e61-420f-4eae-aa45-20158d22b46a",
   "metadata": {},
   "outputs": [],
   "source": [
    "import joblib"
   ]
  },
  {
   "cell_type": "code",
   "execution_count": 20,
   "id": "1e4839ae-7b16-41bf-96a8-2c389694b977",
   "metadata": {},
   "outputs": [],
   "source": [
    "estimator = gradient_boosting_scores['estimator'][0]"
   ]
  },
  {
   "cell_type": "code",
   "execution_count": 24,
   "id": "14af9550-93dd-46de-9f36-467f0d02419e",
   "metadata": {},
   "outputs": [
    {
     "data": {
      "text/plain": [
       "['calorie_model.pkl']"
      ]
     },
     "execution_count": 24,
     "metadata": {},
     "output_type": "execute_result"
    }
   ],
   "source": [
    "joblib.dump(estimator, 'calorie_model.pkl')"
   ]
  },
  {
   "cell_type": "code",
   "execution_count": 23,
   "id": "a3483fad-9081-4f76-a5ea-101ae487ccd4",
   "metadata": {},
   "outputs": [
    {
     "data": {
      "text/plain": [
       "array([-3.62349284, -3.71092553, -3.70255619, -3.68134316, -3.67007588])"
      ]
     },
     "execution_count": 23,
     "metadata": {},
     "output_type": "execute_result"
    }
   ],
   "source": [
    "gradient_boosting_scores['test_score']"
   ]
  },
  {
   "cell_type": "code",
   "execution_count": null,
   "id": "762a46b3-4ca4-4f54-becc-128e69530f67",
   "metadata": {},
   "outputs": [],
   "source": []
  }
 ],
 "metadata": {
  "kernelspec": {
   "display_name": "Python 3 (ipykernel)",
   "language": "python",
   "name": "python3"
  },
  "language_info": {
   "codemirror_mode": {
    "name": "ipython",
    "version": 3
   },
   "file_extension": ".py",
   "mimetype": "text/x-python",
   "name": "python",
   "nbconvert_exporter": "python",
   "pygments_lexer": "ipython3",
   "version": "3.13.2"
  }
 },
 "nbformat": 4,
 "nbformat_minor": 5
}
